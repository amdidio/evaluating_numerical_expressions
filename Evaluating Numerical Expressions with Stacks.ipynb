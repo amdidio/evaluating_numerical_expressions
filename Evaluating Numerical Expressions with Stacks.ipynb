{
 "cells": [
  {
   "cell_type": "markdown",
   "metadata": {
    "collapsed": true
   },
   "source": [
    "# Evaluating Numerical Expressions with Stacks\n",
    "\n",
    "In this project, I will use the [stack](https://en.wikipedia.org/wiki/Stack_(abstract_data_type)) data structure to implement an algorithm that can evaluate numerical expressions.\n",
    "\n",
    "For example, consider the expression $12\\div(2+4)\\cdot21$. To evaluate the result of this expression in Python, one simply needs to type it in the editor. However, behind the scenes, Python uses an algorithm to evaluate this expression.\n",
    "\n",
    "The goal of this project is to use the stack data structure to implement a function named `evaluate()` that can evaluate expressions stored in a string, like so:\n",
    "```python\n",
    "expression = \"12 / ( 2 + 4 ) * 21\"\n",
    "print(evaluate(expression))\n",
    "```\n",
    "```\n",
    "42.0\n",
    "```\n",
    "## LinkedList & Stack Implementation"
   ]
  },
  {
   "cell_type": "code",
   "execution_count": 1,
   "metadata": {},
   "outputs": [],
   "source": [
    "#importing LinkedList implementation\n",
    "from linked_list import LinkedList\n",
    "\n",
    "#Stack implementation\n",
    "class Stack(LinkedList):\n",
    "    def push(self, data):\n",
    "        self.append(data)\n",
    "        \n",
    "    def peek(self):\n",
    "        return self.tail.data\n",
    "    \n",
    "    def pop(self):\n",
    "        ret = self.tail.data\n",
    "        if self.length == 1:\n",
    "            self.head = self.tail = None\n",
    "        else:\n",
    "            self.tail = self.tail.prev\n",
    "            self.tail.next = None\n",
    "        self.length -= 1\n",
    "        return ret"
   ]
  },
  {
   "cell_type": "markdown",
   "metadata": {},
   "source": [
    "## Evaluating Expressions in Postfix Notation\n",
    "\n",
    "For a computer, it's much easier to evaluate an expression written in postfix notation. For example, the infix expression `1 + 2` becomes `1 2 +` in postfix notation.\n",
    "\n",
    "We can evaluate an expression in postfix notation using a stack. We read the expression from left to right and do the following:\n",
    "1. If we find a number, push that number to the top of the stack.\n",
    "2. If we find an operator, pop the top two elements of the stack, perform the operation, and then push back the result.\n",
    "\n",
    "Let's implement a function `evaluate_postfix()` that evaluates an expression in postfix notation.\n",
    "\n",
    "*Note: to simplify the function, we will assume the expression string has spaces between all elements in the expression.*"
   ]
  },
  {
   "cell_type": "code",
   "execution_count": 2,
   "metadata": {},
   "outputs": [
    {
     "name": "stdout",
     "output_type": "stream",
     "text": [
      "['12', '2', '4', '+', '/', '21', '*']\n"
     ]
    }
   ],
   "source": [
    "def tokenize(expression):\n",
    "    return expression.split()\n",
    "\n",
    "expression = \"12 2 4 + / 21 *\"\n",
    "print(tokenize(expression))"
   ]
  },
  {
   "cell_type": "markdown",
   "metadata": {},
   "source": [
    "The above function serves to tokenize a given expression, while the functions below will implement specific operators in said expression:"
   ]
  },
  {
   "cell_type": "code",
   "execution_count": 3,
   "metadata": {},
   "outputs": [],
   "source": [
    "#processes '-'\n",
    "def process_minus(stack):\n",
    "    top = stack.pop()\n",
    "    second_to_top = stack.pop()\n",
    "    result = second_to_top - top\n",
    "    stack.push(result)\n",
    "\n",
    "#processes '+'\n",
    "def process_plus(stack):\n",
    "    top = stack.pop()\n",
    "    second_to_top = stack.pop()\n",
    "    result = top + second_to_top\n",
    "    stack.push(result)\n",
    "\n",
    "#processes '*'    \n",
    "def process_times(stack):\n",
    "    top = stack.pop()\n",
    "    second_to_top = stack.pop()\n",
    "    result = top * second_to_top\n",
    "    stack.push(result)\n",
    "\n",
    "#processes '/'    \n",
    "def process_divide(stack):\n",
    "    top = stack.pop()\n",
    "    second_to_top = stack.pop()\n",
    "    result = second_to_top / top\n",
    "    stack.push(result)\n",
    "    \n",
    "#processes '**'    \n",
    "def process_pow(stack):\n",
    "    top = stack.pop()\n",
    "    second_to_top = stack.pop()\n",
    "    result = second_to_top ** top\n",
    "    stack.push(result)"
   ]
  },
  {
   "cell_type": "markdown",
   "metadata": {},
   "source": [
    "Finally, to evaluate expressions in postfix notation, we need to do the following:\n",
    "\n",
    "1. Tokenize the expression using the `tokenize()` function\n",
    "2. Initialize an empty stack\n",
    "3. For each token, do the following:\n",
    "    1. If the token is an operator, call the corresponding function to process it (i.e. the `process_plus()` function for `+`).\n",
    "    2. Otherwise, convert that number to `float` and push it to the top of the stack.\n",
    "4. Return the value that is left in the stack."
   ]
  },
  {
   "cell_type": "code",
   "execution_count": 4,
   "metadata": {},
   "outputs": [],
   "source": [
    "def evaluate_postfix(expression):\n",
    "    tokens = tokenize(expression)\n",
    "    stack = Stack()\n",
    "    for token in tokens:\n",
    "        if token == '+':\n",
    "            process_plus(stack)\n",
    "        elif token == '-':\n",
    "            process_minus(stack)\n",
    "        elif token == '*':\n",
    "            process_times(stack)\n",
    "        elif token == '/':\n",
    "            process_divide(stack)\n",
    "        elif token == '**':\n",
    "            process_pow(stack)\n",
    "        else:\n",
    "            stack.push(float(token))\n",
    "    return stack.pop()"
   ]
  },
  {
   "cell_type": "markdown",
   "metadata": {},
   "source": [
    "Test expressions:"
   ]
  },
  {
   "cell_type": "code",
   "execution_count": 5,
   "metadata": {},
   "outputs": [
    {
     "name": "stdout",
     "output_type": "stream",
     "text": [
      "-2.0\n",
      "8.0\n",
      "0.0\n",
      "2.0\n",
      "11.25\n",
      "45.0\n",
      "42.0\n",
      "4.0\n",
      "2.0\n"
     ]
    }
   ],
   "source": [
    "expressions = [\n",
    "    \"4 6 -\",\n",
    "    \"4 1 2 9 3 / * + 5 - *\",\n",
    "    \"1 2 + 3 -\",\n",
    "    \"1 2 - 3 +\",\n",
    "    \"10 3 5 * 16 4 - / +\",\n",
    "    \"5 3 4 2 - ** *\",\n",
    "    \"12 2 4 + / 21 *\",\n",
    "    \"1 1 + 2 **\",\n",
    "    \"1 1 2 ** +\"\n",
    "]\n",
    "\n",
    "for expression in expressions:\n",
    "    print(evaluate_postfix(expression))"
   ]
  },
  {
   "cell_type": "markdown",
   "metadata": {},
   "source": [
    "## Converting Expressions from Infix to Postfix\n",
    "\n",
    "To convert an expression from infix to postfix, I'm going to implement the [Shunting-yard algorithm](https://en.wikipedia.org/wiki/Shunting_yard_algorithm#:~:text=In%20computer%20science%2C%20the%20shunting,abstract%20syntax%20tree%20(AST).) in a function called `infix_to_postfix()`, which is also implemented with a stack.\n",
    "\n",
    "To start, I need to create a dictionary defining the precedence of each operator according to order of operations:"
   ]
  },
  {
   "cell_type": "code",
   "execution_count": 6,
   "metadata": {
    "scrolled": true
   },
   "outputs": [
    {
     "name": "stdout",
     "output_type": "stream",
     "text": [
      "True\n",
      "False\n",
      "True\n"
     ]
    }
   ],
   "source": [
    "precedence = {\n",
    "    '+': 1,\n",
    "    '-': 1,\n",
    "    '*': 2,\n",
    "    '/': 2,\n",
    "    '**': 3\n",
    "}\n",
    "\n",
    "print(precedence[\"+\"] < precedence[\"*\"])\n",
    "print(precedence[\"+\"] < precedence[\"-\"])\n",
    "print(precedence[\"/\"] < precedence[\"**\"])"
   ]
  },
  {
   "cell_type": "markdown",
   "metadata": {},
   "source": [
    "The processing for each token in `infix_to_postfix()` should be as follows:\n",
    "* Opening parenthesis, `(`:\n",
    "    1. Push the token into the stack for later use when closing parenthesis is found.\n",
    "* Closing parenthesis, `)`:\n",
    "    1. While the top of the stack isn't an opening parenthesis, pop the top element and append it to the `postfix` token list.\n",
    "    2. Pop the opening parenthesis out of the stack at the end.\n",
    "* Operator:\n",
    "    1. While the top of the stack is also an operator w/ a precedence greater than or equal to this operator, pop the top element, and append it to the `postfix` token list.\n",
    "    2. Push the current operator to the top of the stack.\n",
    "* Operand:\n",
    "    1. Append the number to the `postfix` token list."
   ]
  },
  {
   "cell_type": "code",
   "execution_count": 7,
   "metadata": {},
   "outputs": [],
   "source": [
    "#processing '('\n",
    "def process_opening_parenthesis(stack):\n",
    "    stack.push('(')\n",
    "    \n",
    "#processing ')'\n",
    "def process_closing_parenthesis(stack, postfix):\n",
    "    while stack.peek() != '(':\n",
    "        postfix.append(stack.pop())\n",
    "    stack.pop()\n",
    "    \n",
    "#processing '+', '-', '*', '/', '**'\n",
    "def process_operator(stack, postfix, operator):\n",
    "    while (len(stack) > 0 \n",
    "           and stack.peek() in precedence \n",
    "           and precedence[stack.peek()] >= precedence[operator]\n",
    "          ):\n",
    "        postfix.append(stack.pop())\n",
    "    stack.push(operator)\n",
    "    \n",
    "#processing numbers\n",
    "def process_number(postfix, number):\n",
    "    postfix.append(number)"
   ]
  },
  {
   "cell_type": "markdown",
   "metadata": {},
   "source": [
    "Finally, the `infix_to_postfix()` function can be implemented to convert an expression from infix notation to postfix notation.\n",
    "\n",
    "This function will work as follows:\n",
    "1. Tokenize the expression using the `tokenize()` function.\n",
    "2. Initialize an empty stack.\n",
    "3. Initialize an empty postfix token list.\n",
    "4. Iterate over all tokens, and call the appropriate processing functions (above) as needed.\n",
    "5. Pop the remaining stack element into the postfix token list.\n",
    "6. Convert the postfix token list into a string."
   ]
  },
  {
   "cell_type": "code",
   "execution_count": 8,
   "metadata": {},
   "outputs": [],
   "source": [
    "def infix_to_postfix(expression):\n",
    "    tokens = tokenize(expression)\n",
    "    stack = Stack()\n",
    "    postfix = []\n",
    "    for token in tokens:\n",
    "        if token == '(':\n",
    "            process_opening_parenthesis(stack)\n",
    "        elif token == ')':\n",
    "            process_closing_parenthesis(stack, postfix)\n",
    "        elif token in precedence:\n",
    "            process_operator(stack, postfix, token)\n",
    "        else:\n",
    "            process_number(postfix, token)\n",
    "    while len(stack) > 0:\n",
    "        postfix.append(stack.pop())\n",
    "    return ' '.join(postfix)"
   ]
  },
  {
   "cell_type": "markdown",
   "metadata": {},
   "source": [
    "## Conclusion: Evaluating Infix Expressions\n",
    "\n",
    "With a function that converts expressions to postfix notation and another to evaluate them, we can combine the two to evaluate an infix expression:"
   ]
  },
  {
   "cell_type": "code",
   "execution_count": 9,
   "metadata": {},
   "outputs": [],
   "source": [
    "def evaluate(expression):\n",
    "    postfix_expression = infix_to_postfix(expression)\n",
    "    return evaluate_postfix(postfix_expression)"
   ]
  },
  {
   "cell_type": "markdown",
   "metadata": {},
   "source": [
    "Test expressions:"
   ]
  },
  {
   "cell_type": "code",
   "execution_count": 10,
   "metadata": {},
   "outputs": [
    {
     "name": "stdout",
     "output_type": "stream",
     "text": [
      "2.0\n",
      "0.0\n",
      "8.0\n",
      "11.25\n",
      "256.0\n",
      "65536.0\n",
      "0.5\n",
      "9.0\n",
      "1.0\n"
     ]
    }
   ],
   "source": [
    "expressions = [\n",
    "    \"1 + 1\",\n",
    "    \"1 * ( 2 - ( 1 + 1 ) )\",\n",
    "    \"4 * ( 1 + 2 * ( 9 / 3 ) - 5 )\",\n",
    "    \"10 + 3 * 5 / ( 16 - 4 * 1 )\",\n",
    "    \"2 * 2 * 2 * 2 * 2 * 2 * 2 * 2\",\n",
    "    \"2 ** 2 ** 2 ** 2 ** 2\",\n",
    "    \"( 1 - 2 ) / ( 3 - 5 )\",\n",
    "    \"9 / 8 * 8\",\n",
    "    \"64 / ( 8 * 8 )\",\n",
    "]\n",
    "\n",
    "for expression in expressions:\n",
    "    print(evaluate(expression))"
   ]
  }
 ],
 "metadata": {
  "kernelspec": {
   "display_name": "Python 3",
   "language": "python",
   "name": "python3"
  },
  "language_info": {
   "codemirror_mode": {
    "name": "ipython",
    "version": 3
   },
   "file_extension": ".py",
   "mimetype": "text/x-python",
   "name": "python",
   "nbconvert_exporter": "python",
   "pygments_lexer": "ipython3",
   "version": "3.8.2"
  }
 },
 "nbformat": 4,
 "nbformat_minor": 1
}
